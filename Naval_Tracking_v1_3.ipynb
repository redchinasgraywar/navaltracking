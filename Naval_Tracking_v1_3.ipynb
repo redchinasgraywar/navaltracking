{
  "cells": [
    {
      "cell_type": "code",
      "execution_count": null,
      "id": "5c92d010-e107-40c5-9ccc-e116e2d1bd32",
      "metadata": {
        "id": "5c92d010-e107-40c5-9ccc-e116e2d1bd32",
        "colab": {
          "base_uri": "https://localhost:8080/"
        },
        "outputId": "1ab6eab3-9799-4533-b7c5-327338089833"
      },
      "outputs": [
        {
          "output_type": "stream",
          "name": "stdout",
          "text": [
            "Drive already mounted at /content/gdrive; to attempt to forcibly remount, call drive.mount(\"/content/gdrive\", force_remount=True).\n"
          ]
        }
      ],
      "source": [
        "import requests\n",
        "from bs4 import BeautifulSoup as bs\n",
        "import pandas as pd\n",
        "from google.colab import drive\n",
        "\n",
        "drive.mount('/content/gdrive')"
      ]
    },
    {
      "cell_type": "code",
      "execution_count": null,
      "id": "xz3Zo7vANhUD",
      "metadata": {
        "id": "xz3Zo7vANhUD"
      },
      "outputs": [],
      "source": [
        "def scrape_dvids(kword, search_links, i):\n",
        "  df = pd.DataFrame(columns=['Title', 'Location and metadata', 'Link'])\n",
        "\n",
        "  for n in range(3):\n",
        "    r = requests.get(search_links[i*3 + n])\n",
        "    soup = bs(r.content, 'html.parser')\n",
        "\n",
        "    links = []\n",
        "    links_all = soup.find_all('a', class_= 'uk-button box-button', href=True)\n",
        "    for a in links_all:\n",
        "        links.append('https://www.dvidshub.net' + a['href'])\n",
        "\n",
        "    title1 = '.'\n",
        "\n",
        "    for a in links:\n",
        "        r1 = requests.get(a)\n",
        "        soup1 = bs(r1.content, 'html.parser')\n",
        "        loc = soup1.find_all('td')\n",
        "        title = soup1.find_all('title')\n",
        "\n",
        "        try:\n",
        "          if title1 == '.':\n",
        "            title1 = str(title[0].contents[0])\n",
        "          elif title1[0:-16] == str(title[0].contents[0][0:-16]):\n",
        "            title1 = str(title[0].contents[0])\n",
        "            continue\n",
        "          elif title1[0:-16] == str(title[0].contents[0][0:-17]):\n",
        "            title1 = str(title[0].contents[0])\n",
        "            continue\n",
        "          elif title1[0:-17] == str(title[0].contents[0][0:-16]):\n",
        "            title1 = str(title[0].contents[0])\n",
        "            continue\n",
        "          else:\n",
        "            title1 = str(title[0].contents[0])\n",
        "        except:\n",
        "          continue\n",
        "\n",
        "        try:\n",
        "            output_dict = {'Title' : str(title[0])[15:-8],\n",
        "                            'Location and metadata' : str(loc[13])[4:-5] + ' ' + str(loc[15])[4:-5] + ' ' + str(loc[11])[4:-5] + ' ' + str(loc[1])[4:-5],\n",
        "                            'Link' : a + '\\n'}\n",
        "            df2 = pd.DataFrame(data=output_dict, index=[0])\n",
        "            df = pd.concat([df, df2], ignore_index=True)\n",
        "            #print(df)\n",
        "        except:\n",
        "            try:\n",
        "              output_dict = {'Title' : str(title[0])[15:-8],\n",
        "                            'Location and metadata' : str(loc[7])[4:-5] + ' ' + str(loc[1])[4:-5],\n",
        "                            'Link' : a}\n",
        "              df2 = pd.DataFrame(data=output_dict, index=[0])\n",
        "              df = pd.concat([df, df2], ignore_index=True)\n",
        "              #print(df)\n",
        "            except:\n",
        "              print('Unavailable')\n",
        "\n",
        "  df.to_csv('/content/gdrive/My Drive/dvids csv/' + kword + '.csv', index = False)"
      ]
    },
    {
      "cell_type": "code",
      "source": [
        "keywords = ['Deployment', 'Deploy', 'Deploys', 'F-22', 'F-35', 'B-21', 'B-2', 'B-1B', 'SSN', 'SSGN', 'SSBN', 'LCC',' ESB',\n",
        "            'Kadena', 'Yokota', 'Guam', 'Sasebo', 'Yokosuka', 'Pearl Harbor', 'Souda Bay', 'Suez Canal', 'Red Sea', 'Undisclosed location',\n",
        "            'Panama', 'Central Command', 'European Command', 'Indo-Pacific Command', 'Southern Command', '7th Fleet', '6th Fleet', '5th Fleet',\n",
        "            'INDOPACOM', 'CENTCOM', 'EUCOM', 'SOUTHCOM', 'ARG', 'Amphibious Ready Group', 'CSG', 'Carrier Strike Group', 'MEU', 'Marine Expeditionary Unit', 'TF', 'Task Force', 'Patrol']\n",
        "\n",
        "search_links = ['https://www.dvidshub.net/search/?q=deployment&view=grid&sort=date',\n",
        "                'https://www.dvidshub.net/search/?q=deployment&view=grid&sort=date&page=2',\n",
        "                'https://www.dvidshub.net/search/?q=deployment&view=grid&sort=date&page=3',\n",
        "                'https://www.dvidshub.net/search/?q=deploy&view=grid&sort=date',\n",
        "                'https://www.dvidshub.net/search/?q=deploy&view=grid&sort=date&page=2',\n",
        "                'https://www.dvidshub.net/search/?q=deploy&view=grid&sort=date&page=3',\n",
        "                'https://www.dvidshub.net/search/?q=deploys&view=grid&sort=date',\n",
        "                'https://www.dvidshub.net/search/?q=deploys&view=grid&sort=date&page=2',\n",
        "                'https://www.dvidshub.net/search/?q=deploys&view=grid&sort=date&page=3',\n",
        "                'https://www.dvidshub.net/search/?q=f-22&view=grid&sort=date',\n",
        "                'https://www.dvidshub.net/search/?q=f-22&view=grid&sort=date&page=2',\n",
        "                'https://www.dvidshub.net/search/?q=f-22&view=grid&sort=date&page=3',\n",
        "                'https://www.dvidshub.net/search/?q=f-35&view=grid&sort=date',\n",
        "                'https://www.dvidshub.net/search/?q=f-35&view=grid&sort=date&page=2',\n",
        "                'https://www.dvidshub.net/search/?q=f-35&view=grid&sort=date&page=3',\n",
        "                'https://www.dvidshub.net/search/?q=b-21&view=grid&sort=date',\n",
        "                'https://www.dvidshub.net/search/?q=b-21&view=grid&sort=date&page=2',\n",
        "                'https://www.dvidshub.net/search/?q=b-21&view=grid&sort=date&page=3',\n",
        "                'https://www.dvidshub.net/search/?q=b-2&view=grid&sort=date',\n",
        "                'https://www.dvidshub.net/search/?q=b-2&view=grid&sort=date&page=2',\n",
        "                'https://www.dvidshub.net/search/?q=b-2&view=grid&sort=date&page=3',\n",
        "                'https://www.dvidshub.net/search/?q=b-1b&view=grid&sort=date',\n",
        "                'https://www.dvidshub.net/search/?q=b-1b&view=grid&sort=date&page=2',\n",
        "                'https://www.dvidshub.net/search/?q=b-1b&view=grid&sort=date&page=3',\n",
        "                'https://www.dvidshub.net/search/?q=ssn&view=grid&sort=date',\n",
        "                'https://www.dvidshub.net/search/?q=ssn&view=grid&sort=date&page=2',\n",
        "                'https://www.dvidshub.net/search/?q=ssn&view=grid&sort=date&page=3',\n",
        "                'https://www.dvidshub.net/search/?q=ssgn&view=grid&sort=date',\n",
        "                'https://www.dvidshub.net/search/?q=ssgn&view=grid&sort=date&page=2',\n",
        "                'https://www.dvidshub.net/search/?q=ssgn&view=grid&sort=date&page=3',\n",
        "                'https://www.dvidshub.net/search/?q=ssbn&view=grid&sort=date',\n",
        "                'https://www.dvidshub.net/search/?q=ssbn&view=grid&sort=date&page=2',\n",
        "                'https://www.dvidshub.net/search/?q=ssbn&view=grid&sort=date&page=3',\n",
        "                'https://www.dvidshub.net/search/?q=lcc&view=grid&sort=date',\n",
        "                'https://www.dvidshub.net/search/?q=lcc&view=grid&sort=date&page=2',\n",
        "                'https://www.dvidshub.net/search/?q=lcc&view=grid&sort=date&page=3',\n",
        "                'https://www.dvidshub.net/search/?q=esb&view=grid&sort=date',\n",
        "                'https://www.dvidshub.net/search/?q=esb&view=grid&sort=date&page=2',\n",
        "                'https://www.dvidshub.net/search/?q=esb&view=grid&sort=date&page=3',\n",
        "                'https://www.dvidshub.net/search/?q=kadena&view=grid&sort=date',\n",
        "                'https://www.dvidshub.net/search/?q=kadena&view=grid&sort=date&page=2',\n",
        "                'https://www.dvidshub.net/search/?q=kadena&view=grid&sort=date&page=3',\n",
        "                'https://www.dvidshub.net/search/?q=yokota&view=grid&sort=date',\n",
        "                'https://www.dvidshub.net/search/?q=yokota&view=grid&sort=date&page=2',\n",
        "                'https://www.dvidshub.net/search/?q=yokota&view=grid&sort=date&page=3',\n",
        "                'https://www.dvidshub.net/search/?q=guam&view=grid&sort=date',\n",
        "                'https://www.dvidshub.net/search/?q=guam&view=grid&sort=date&page=2',\n",
        "                'https://www.dvidshub.net/search/?q=guam&view=grid&sort=date&page=3',\n",
        "                'https://www.dvidshub.net/search/?q=sasebo&view=grid&sort=date',\n",
        "                'https://www.dvidshub.net/search/?q=sasebo&view=grid&sort=date&page=2',\n",
        "                'https://www.dvidshub.net/search/?q=sasebo&view=grid&sort=date&page=3',\n",
        "                'https://www.dvidshub.net/search/?q=yokosuka&view=grid&sort=date',\n",
        "                'https://www.dvidshub.net/search/?q=yokosuka&view=grid&sort=date&page=2',\n",
        "                'https://www.dvidshub.net/search/?q=yokosuka&view=grid&sort=date&page=3',\n",
        "                'https://www.dvidshub.net/search/?q=pearl+harbor&view=grid&sort=date',\n",
        "                'https://www.dvidshub.net/search/?q=pearl+harbor&view=grid&sort=date&page=2',\n",
        "                'https://www.dvidshub.net/search/?q=pearl+harbor&view=grid&sort=date&page=3',\n",
        "                'https://www.dvidshub.net/search/?q=souda+bay&view=grid&sort=date',\n",
        "                'https://www.dvidshub.net/search/?q=souda+bay&view=grid&sort=date&page=2',\n",
        "                'https://www.dvidshub.net/search/?q=souda+bay&view=grid&sort=date&page=3',\n",
        "                'https://www.dvidshub.net/search/?q=suez+canal&view=grid&sort=date',\n",
        "                'https://www.dvidshub.net/search/?q=suez+canal&view=grid&sort=date&page=2',\n",
        "                'https://www.dvidshub.net/search/?q=suez+canal&view=grid&sort=date&page=3',\n",
        "                'https://www.dvidshub.net/search/?q=red+sea&view=grid&sort=date',\n",
        "                'https://www.dvidshub.net/search/?q=red+sea&view=grid&sort=date&page=2',\n",
        "                'https://www.dvidshub.net/search/?q=red+sea&view=grid&sort=date&page=3',\n",
        "                'https://www.dvidshub.net/search/?q=undisclosed+location&view=grid&sort=date',\n",
        "                'https://www.dvidshub.net/search/?q=undisclosed+location&view=grid&sort=date&page=2',\n",
        "                'https://www.dvidshub.net/search/?q=undisclosed+location&view=grid&sort=date&page=3',\n",
        "                'https://www.dvidshub.net/search/?q=panama&view=grid&sort=date',\n",
        "                'https://www.dvidshub.net/search/?q=panama&view=grid&sort=date&page=2',\n",
        "                'https://www.dvidshub.net/search/?q=panama&view=grid&sort=date&page=3',\n",
        "                'https://www.dvidshub.net/search/?q=central+command&view=grid&sort=date',\n",
        "                'https://www.dvidshub.net/search/?q=central+command&view=grid&sort=date&page=2',\n",
        "                'https://www.dvidshub.net/search/?q=central+command&view=grid&sort=date&page=3',\n",
        "                'https://www.dvidshub.net/search/?q=european+command&view=grid&sort=date',\n",
        "                'https://www.dvidshub.net/search/?q=european+command&view=grid&sort=date&page=2',\n",
        "                'https://www.dvidshub.net/search/?q=european+command&view=grid&sort=date&page=3',\n",
        "                'https://www.dvidshub.net/search/?q=indo-pacific+command&view=grid&sort=date',\n",
        "                'https://www.dvidshub.net/search/?q=indo-pacific+command&view=grid&sort=date&page=2',\n",
        "                'https://www.dvidshub.net/search/?q=indo-pacific+command&view=grid&sort=date&page=3',\n",
        "                'https://www.dvidshub.net/search/?q=southern+command&view=grid&sort=date',\n",
        "                'https://www.dvidshub.net/search/?q=southern+command&view=grid&sort=date&page=2',\n",
        "                'https://www.dvidshub.net/search/?q=southern+command&view=grid&sort=date&page=3',\n",
        "                'https://www.dvidshub.net/search/?q=7th+fleet&view=grid&sort=date',\n",
        "                'https://www.dvidshub.net/search/?q=7th+fleet&view=grid&sort=date&page=2',\n",
        "                'https://www.dvidshub.net/search/?q=7th+fleet&view=grid&sort=date&page=3',\n",
        "                'https://www.dvidshub.net/search/?q=6th+fleet&view=grid&sort=date',\n",
        "                'https://www.dvidshub.net/search/?q=6th+fleet&view=grid&sort=date&page=2',\n",
        "                'https://www.dvidshub.net/search/?q=6th+fleet&view=grid&sort=date&page=3',\n",
        "                'https://www.dvidshub.net/search/?q=5th+fleet&view=grid&sort=date',\n",
        "                'https://www.dvidshub.net/search/?q=5th+fleet&view=grid&sort=date&page=2',\n",
        "                'https://www.dvidshub.net/search/?q=5th+fleet&view=grid&sort=date&page=3',\n",
        "                'https://www.dvidshub.net/search/?q=indopacom&view=grid&sort=date',\n",
        "                'https://www.dvidshub.net/search/?q=indopacom&view=grid&sort=date&page=2',\n",
        "                'https://www.dvidshub.net/search/?q=indopacom&view=grid&sort=date&page=3',\n",
        "                'https://www.dvidshub.net/search/?q=centcom&view=grid&sort=date',\n",
        "                'https://www.dvidshub.net/search/?q=centcom&view=grid&sort=date&page=2',\n",
        "                'https://www.dvidshub.net/search/?q=centcom&view=grid&sort=date&page=3',\n",
        "                'https://www.dvidshub.net/search/?q=eucom&view=grid&sort=date',\n",
        "                'https://www.dvidshub.net/search/?q=eucom&view=grid&sort=date&page=2',\n",
        "                'https://www.dvidshub.net/search/?q=eucom&view=grid&sort=date&page=3',\n",
        "                'https://www.dvidshub.net/search/?q=southcom&view=grid&sort=date',\n",
        "                'https://www.dvidshub.net/search/?q=southcom&view=grid&sort=date&page=2',\n",
        "                'https://www.dvidshub.net/search/?q=southcom&view=grid&sort=date&page=3',\n",
        "                'https://www.dvidshub.net/search/?q=ARG&view=grid&sort=date',\n",
        "                'https://www.dvidshub.net/search/?q=ARG&view=grid&sort=date&page=2',\n",
        "                'https://www.dvidshub.net/search/?q=ARG&view=grid&sort=date&page=3',\n",
        "                'https://www.dvidshub.net/search/?q=amphibious+ready+group&view=grid&sort=date',\n",
        "                'https://www.dvidshub.net/search/?q=amphibious+ready+group&view=grid&sort=date&page=2',\n",
        "                'https://www.dvidshub.net/search/?q=amphibious+ready+group&view=grid&sort=date&page=3',\n",
        "                'https://www.dvidshub.net/search/?q=CSG&view=grid&sort=date',\n",
        "                'https://www.dvidshub.net/search/?q=CSG&view=grid&sort=date&page=2',\n",
        "                'https://www.dvidshub.net/search/?q=CSG&view=grid&sort=date&page=3',\n",
        "                'https://www.dvidshub.net/search/?q=carrier+strike+group&view=grid&sort=date',\n",
        "                'https://www.dvidshub.net/search/?q=carrier+strike+group&view=grid&sort=date&page=2',\n",
        "                'https://www.dvidshub.net/search/?q=carrier+strike+group&view=grid&sort=date&page=3',\n",
        "                'https://www.dvidshub.net/search/?q=MEU&view=grid&sort=date',\n",
        "                'https://www.dvidshub.net/search/?q=MEU&view=grid&sort=date&page=2',\n",
        "                'https://www.dvidshub.net/search/?q=MEU&view=grid&sort=date&page=3',\n",
        "                'https://www.dvidshub.net/search/?q=marine+expeditionary+unit&view=grid&sort=date',\n",
        "                'https://www.dvidshub.net/search/?q=marine+expeditionary+unit&view=grid&sort=date&page=2',\n",
        "                'https://www.dvidshub.net/search/?q=marine+expeditionary+unit&view=grid&sort=date&page=3',\n",
        "                'https://www.dvidshub.net/search/?q=TF&view=grid&sort=date',\n",
        "                'https://www.dvidshub.net/search/?q=TF&view=grid&sort=date&page=2',\n",
        "                'https://www.dvidshub.net/search/?q=TF&view=grid&sort=date&page=3',\n",
        "                'https://www.dvidshub.net/search/?q=task+force&view=grid&sort=date',\n",
        "                'https://www.dvidshub.net/search/?q=task+force&view=grid&sort=date&page=2',\n",
        "                'https://www.dvidshub.net/search/?q=task+force&view=grid&sort=date&page=3',\n",
        "                'https://www.dvidshub.net/search/?q=patrol&view=grid&sort=date',\n",
        "                'https://www.dvidshub.net/search/?q=patrol&view=grid&sort=date&page=2',\n",
        "                'https://www.dvidshub.net/search/?q=patrol&view=grid&sort=date&page=3']\n",
        "\n",
        "print(len(keywords))\n",
        "print(len(search_links))\n"
      ],
      "metadata": {
        "id": "VMrkdRyT57o2",
        "colab": {
          "base_uri": "https://localhost:8080/"
        },
        "outputId": "d6177435-c410-4c06-fcf6-859b17ce0c1e"
      },
      "id": "VMrkdRyT57o2",
      "execution_count": null,
      "outputs": [
        {
          "output_type": "stream",
          "name": "stdout",
          "text": [
            "44\n",
            "132\n"
          ]
        }
      ]
    },
    {
      "cell_type": "code",
      "source": [
        "for i in range(len(keywords)):\n",
        "  kword = keywords[i]\n",
        "  scrape_dvids(kword, search_links, i)"
      ],
      "metadata": {
        "colab": {
          "base_uri": "https://localhost:8080/"
        },
        "id": "_rs7o9VX6PRR",
        "outputId": "373e394a-6b87-4317-810d-3eae0429e2d6"
      },
      "id": "_rs7o9VX6PRR",
      "execution_count": null,
      "outputs": [
        {
          "output_type": "stream",
          "name": "stderr",
          "text": [
            "WARNING:bs4.dammit:Some characters could not be decoded, and were replaced with REPLACEMENT CHARACTER.\n",
            "WARNING:bs4.dammit:Some characters could not be decoded, and were replaced with REPLACEMENT CHARACTER.\n",
            "WARNING:bs4.dammit:Some characters could not be decoded, and were replaced with REPLACEMENT CHARACTER.\n",
            "WARNING:bs4.dammit:Some characters could not be decoded, and were replaced with REPLACEMENT CHARACTER.\n",
            "WARNING:bs4.dammit:Some characters could not be decoded, and were replaced with REPLACEMENT CHARACTER.\n"
          ]
        }
      ]
    }
  ],
  "metadata": {
    "colab": {
      "provenance": []
    },
    "kernelspec": {
      "display_name": "Python 3 (ipykernel)",
      "language": "python",
      "name": "python3"
    },
    "language_info": {
      "codemirror_mode": {
        "name": "ipython",
        "version": 3
      },
      "file_extension": ".py",
      "mimetype": "text/x-python",
      "name": "python",
      "nbconvert_exporter": "python",
      "pygments_lexer": "ipython3",
      "version": "3.9.20"
    }
  },
  "nbformat": 4,
  "nbformat_minor": 5
}